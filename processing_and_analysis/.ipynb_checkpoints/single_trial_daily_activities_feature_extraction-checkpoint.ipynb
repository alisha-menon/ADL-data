{
 "cells": [
  {
   "cell_type": "code",
   "execution_count": null,
   "metadata": {},
   "outputs": [],
   "source": [
    "import numpy as np\n",
    "# from scipy import signal\n",
    "import scipy.io as sio\n",
    "import matplotlib.pyplot as plt\n",
    "import os\n",
    "import sys\n",
    "from typing import Dict\n",
    "import glob\n",
    "\n",
    "module_path = os.path.abspath(os.path.join('..'))\n",
    "if module_path not in sys.path:\n",
    "    sys.path.append(module_path)\n",
    "\n",
    "%load_ext autoreload\n",
    "%autoreload 2\n",
    "\n",
    "from data_preprocessing import experiments, process_single_trial_daily_activity"
   ]
  },
  {
   "cell_type": "code",
   "execution_count": null,
   "metadata": {},
   "outputs": [],
   "source": [
    "data_path = os.getcwd() + \"/../S2/raw/\"\n",
    "feat_path = os.getcwd() + \"/../S2/features/\"\n",
    "\n",
    "subject = 2\n",
    "experiments = [0,1,2,3,4,5]"
   ]
  },
  {
   "cell_type": "code",
   "execution_count": null,
   "metadata": {},
   "outputs": [],
   "source": [
    "feature_data = {}\n",
    "feature_data['emgFeature_disc'] = np.asarray([])\n",
    "feature_data['accFeature_disc'] = np.asarray([])\n",
    "feature_data['forceFeature_disc'] = np.asarray([])\n",
    "feature_data['trialLabel_disc'] = []\n",
    "feature_data['subGestureLabel_disc'] = []\n",
    "\n",
    "feature_data['emgFeature_cont'] = np.asarray([])\n",
    "feature_data['accFeature_cont'] = np.asarray([])\n",
    "feature_data['forceFeature_cont'] = np.asarray([])\n",
    "feature_data['trialLabel_cont'] = []\n",
    "feature_data['subTrialLabel_cont'] = []"
   ]
  },
  {
   "cell_type": "code",
   "execution_count": null,
   "metadata": {},
   "outputs": [],
   "source": [
    "for exp in experiments:\n",
    "    fileHead = 'S' + f'{subject:03}' + '_E' + f'{exp:03}*'\n",
    "    filenames = glob.glob(data_path + fileHead)\n",
    "    disc_count = 0\n",
    "    cont_count = 0\n",
    "    \n",
    "    for file in filenames:\n",
    "        print(file)\n",
    "        data = sio.loadmat(file)\n",
    "\n",
    "        for k in data.keys():\n",
    "            if k  not in ['raw', 'crc', '__header__', '__version__', '__globals__']:\n",
    "                data[k] = data[k][0][0]\n",
    "\n",
    "        emgFeat, accFeat, forceFeat, trialLabel, activityGestureLabels = process_single_trial_daily_activity(data, dropSamples=10, featureWindow = 50, log=False)\n",
    "\n",
    "        if data['discrete']:\n",
    "            print(f\"disc trial: {disc_count}\")\n",
    "            if np.size(feature_data['emgFeature_disc']) == 0:\n",
    "                print(f\"discrete feature data empty, setting equal\")\n",
    "                feature_data['emgFeature_disc'] = emgFeat\n",
    "                feature_data['accFeature_disc'] = accFeat\n",
    "                feature_data['forceFeature_disc'] = forceFeat\n",
    "                feature_data['trialLabel_disc'] = trialLabel + disc_count\n",
    "                feature_data['subGestureLabel_disc'] = activityGestureLabels\n",
    "            else:\n",
    "                print(f\"shape of discrete trial: {np.shape(emgFeat)}, shape of feature_data[emg] before appending: {np.shape(feature_data['emgFeature_disc'])}\")\n",
    "                feature_data['emgFeature_disc'] = np.concatenate((feature_data['emgFeature_disc'], emgFeat), axis=0)\n",
    "                print(f\"shape after appending: {np.shape(feature_data['emgFeature_disc'])}\")\n",
    "                feature_data['accFeature_disc'] = np.concatenate((feature_data['accFeature_disc'], accFeat), axis = 0)\n",
    "                feature_data['forceFeature_disc'] = np.concatenate((feature_data['forceFeature_disc'], forceFeat), axis = 0)\n",
    "                feature_data['trialLabel_disc'] = np.append(feature_data['trialLabel_disc'], trialLabel + disc_count)\n",
    "                feature_data['subGestureLabel_disc'] = np.append(feature_data['subGestureLabel_disc'], activityGestureLabels)\n",
    "            disc_count += 1\n",
    "        elif data['continuous']:\n",
    "            print(f\"continuous trial: {cont_count}\")\n",
    "            if np.size(feature_data['emgFeature_cont']) == 0:\n",
    "                print(f\"continuous feature data empty, setting equal\")\n",
    "                feature_data['emgFeature_cont'] = emgFeat\n",
    "                feature_data['accFeature_cont'] = accFeat\n",
    "                feature_data['forceFeature_cont'] = forceFeat\n",
    "                feature_data['trialLabel_cont'] = trialLabel + disc_count\n",
    "                feature_data['subTrialLabel_cont'] = activityGestureLabels\n",
    "            else :\n",
    "                print(f\"shape of continuous trial: {np.shape(emgFeat)}, shape of feature_data[emg] before appending: {np.shape(feature_data['emgFeature_cont'])}\")\n",
    "                feature_data['emgFeature_cont'] = np.concatenate((feature_data['emgFeature_cont'], emgFeat), axis=0)\n",
    "                print(f\"shape after appending: {np.shape(feature_data['emgFeature_cont'])}\")\n",
    "                feature_data['accFeature_cont'] = np.concatenate((feature_data['accFeature_cont'], accFeat), axis=0)\n",
    "                feature_data['forceFeature_cont'] = np.concatenate((feature_data['forceFeature_cont'], forceFeat), axis=0)\n",
    "                feature_data['trialLabel_cont'] = np.append(feature_data['trialLabel_cont'], trialLabel + cont_count)\n",
    "                feature_data['subTrialLabel_cont'] = np.append(feature_data['subTrialLabel_cont'], activityGestureLabels)\n",
    "            cont_count += 1\n",
    "\n",
    "print(f\"Final shape of emg disc: {np.shape(feature_data['emgFeature_disc'])}, emg cont: {np.shape(feature_data['emgFeature_cont'])}\")"
   ]
  },
  {
   "cell_type": "code",
   "execution_count": null,
   "metadata": {},
   "outputs": [],
   "source": [
    "feature_file_name = feat_path + 'daily_activities_S' + f'{subject:03}' + '_features.mat'\n",
    "sio.savemat(feature_file_name, feature_data)\n",
    "print(f\"Data saved at\\n{feature_file_name}\")"
   ]
  },
  {
   "cell_type": "code",
   "execution_count": null,
   "metadata": {},
   "outputs": [],
   "source": []
  }
 ],
 "metadata": {
  "interpreter": {
   "hash": "7407c4a310f893370a4c81895c174b17ee9d1c76d4e93591b37cd9b66216d99e"
  },
  "kernelspec": {
   "display_name": "Python 3 (ipykernel)",
   "language": "python",
   "name": "python3"
  },
  "language_info": {
   "codemirror_mode": {
    "name": "ipython",
    "version": 3
   },
   "file_extension": ".py",
   "mimetype": "text/x-python",
   "name": "python",
   "nbconvert_exporter": "python",
   "pygments_lexer": "ipython3",
   "version": "3.8.13"
  }
 },
 "nbformat": 4,
 "nbformat_minor": 2
}
