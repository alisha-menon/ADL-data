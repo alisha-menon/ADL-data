{
 "cells": [
  {
   "cell_type": "code",
   "execution_count": null,
   "metadata": {},
   "outputs": [],
   "source": [
    "import numpy as np\n",
    "# from scipy import signal\n",
    "import scipy.io as sio\n",
    "import matplotlib.pyplot as plt\n",
    "import os\n",
    "import sys\n",
    "from typing import Dict\n",
    "import glob\n",
    "\n",
    "module_path = os.path.abspath(os.path.join('..'))\n",
    "if module_path not in sys.path:\n",
    "    sys.path.append(module_path)\n",
    "\n",
    "%load_ext autoreload\n",
    "%autoreload 2\n",
    "\n",
    "from data_preprocessing import experiments, process_daily_activities"
   ]
  },
  {
   "cell_type": "code",
   "execution_count": null,
   "metadata": {},
   "outputs": [],
   "source": [
    "data_path = os.getcwd() + \"/../S1/raw/\"\n",
    "feat_path = os.getcwd() + \"/../S1/features/\"\n",
    "\n",
    "subject = 1"
   ]
  },
  {
   "cell_type": "code",
   "execution_count": null,
   "metadata": {},
   "outputs": [],
   "source": [
    "feature_data = {}\n",
    "feature_data['emgFeature_disc'] = []\n",
    "feature_data['accFeature_disc'] = []\n",
    "feature_data['forceFeature_disc'] = []\n",
    "feature_data['trialLabel_disc'] = []\n",
    "feature_data['subGestureLabel_disc'] = []\n",
    "feature_data['subTrialLabel_cont'] = []\n",
    "\n",
    "feature_data['emgFeature_cont'] = []\n",
    "feature_data['accFeature_cont'] = []\n",
    "feature_data['forceFeature_cont'] = []\n",
    "feature_data['trialLabel_cont'] = []"
   ]
  },
  {
   "cell_type": "code",
   "execution_count": null,
   "metadata": {},
   "outputs": [],
   "source": [
    "fileHead = 'S' + f'{subject:03}' + '_E' + '*'\n",
    "filenames = glob.glob(data_path + fileHead)\n",
    "print(filenames)\n",
    "i=0\n",
    "for file in filenames:\n",
    "    print(file)\n",
    "    data = sio.loadmat(file)\n",
    "\n",
    "    for k in data.keys():\n",
    "        if k  not in ['raw', 'crc', '__header__', '__version__', '__globals__']:\n",
    "            data[k] = data[k][0][0]\n",
    "\n",
    "    emgFeat_disc, accFeat_disc, forceFeat_disc, discTrialLabel, discActivityGestureLabels, \\\n",
    "    emgFeat_cont, accFeat_cont, forceFeat_cont, contTrialLabel, contActivityGestureLabels = process_daily_activities(data, dropSamples=10,featureWindow=50,log=True)\n",
    "\n",
    "    if i==0:\n",
    "        feature_data['emgFeature_disc'] = emgFeat_disc\n",
    "        feature_data['accFeature_disc'] = accFeat_disc\n",
    "        feature_data['forceFeature_disc'] = forceFeat_disc\n",
    "        feature_data['trialLabel_disc'] = discTrialLabel\n",
    "        feature_data['subGestureLabel_disc'] = discActivityGestureLabels\n",
    "        feature_data['emgFeature_cont'] = emgFeat_cont\n",
    "        feature_data['accFeature_cont'] = accFeat_cont\n",
    "        feature_data['forceFeature_cont'] = forceFeat_cont\n",
    "        feature_data['trialLabel_cont'] = contTrialLabel\n",
    "        feature_data['subTrialLabel_cont'] = contActivityGestureLabels\n",
    "    else:\n",
    "        feature_data['emgFeature_disc'] = np.concatenate((feature_data['emgFeature_disc'],emgFeat_disc),axis=0)\n",
    "        feature_data['accFeature_disc'] = np.concatenate((feature_data['accFeature_disc'],accFeat_disc),axis=0)\n",
    "        feature_data['forceFeature_disc'] = np.concatenate((feature_data['forceFeature_disc'],forceFeat_disc),axis=0)\n",
    "        feature_data['trialLabel_disc'] = np.append(feature_data['trialLabel_disc'],discTrialLabel)\n",
    "        feature_data['subGestureLabel_disc'] = np.append(feature_data['subGestureLabel_disc'],discActivityGestureLabels)\n",
    "        feature_data['emgFeature_cont'] = np.concatenate((feature_data['emgFeature_cont'],emgFeat_cont),axis=0)\n",
    "        feature_data['accFeature_cont'] = np.concatenate((feature_data['accFeature_cont'],accFeat_cont),axis=0)\n",
    "        feature_data['forceFeature_cont'] = np.concatenate((feature_data['forceFeature_cont'],forceFeat_cont),axis=0)\n",
    "        feature_data['trialLabel_cont'] = np.append(feature_data['trialLabel_cont'],contTrialLabel)\n",
    "        feature_data['subTrialLabel_cont'] = np.append(feature_data['subTrialLabel_cont'],contActivityGestureLabels)\n",
    "    i = i+1\n",
    "    print(i)"
   ]
  },
  {
   "cell_type": "code",
   "execution_count": null,
   "metadata": {},
   "outputs": [],
   "source": [
    "feature_file_name = feat_path + 'daily_activities_S' + f'{subject:03}' + '_features.mat'\n",
    "sio.savemat(feature_file_name, feature_data)\n",
    "print(f\"Data saved at\\n{feature_file_name}\")"
   ]
  },
  {
   "cell_type": "code",
   "execution_count": null,
   "metadata": {},
   "outputs": [],
   "source": []
  },
  {
   "cell_type": "code",
   "execution_count": null,
   "metadata": {},
   "outputs": [],
   "source": []
  }
 ],
 "metadata": {
  "interpreter": {
   "hash": "7407c4a310f893370a4c81895c174b17ee9d1c76d4e93591b37cd9b66216d99e"
  },
  "kernelspec": {
   "display_name": "Python 3 (ipykernel)",
   "language": "python",
   "name": "python3"
  },
  "language_info": {
   "codemirror_mode": {
    "name": "ipython",
    "version": 3
   },
   "file_extension": ".py",
   "mimetype": "text/x-python",
   "name": "python",
   "nbconvert_exporter": "python",
   "pygments_lexer": "ipython3",
   "version": "3.8.13"
  }
 },
 "nbformat": 4,
 "nbformat_minor": 2
}
