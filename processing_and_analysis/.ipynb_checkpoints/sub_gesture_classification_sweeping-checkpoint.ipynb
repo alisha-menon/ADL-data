{
 "cells": [
  {
   "cell_type": "code",
   "execution_count": null,
   "id": "7cf2c98e",
   "metadata": {},
   "outputs": [],
   "source": [
    "import pickle\n",
    "import numpy as np\n",
    "import matplotlib.pyplot as plt\n",
    "import seaborn as sns\n",
    "import pandas as pd\n",
    "import scipy.io as sio\n",
    "from tqdm import tqdm\n",
    "from itertools import combinations\n",
    "from sklearn.metrics import confusion_matrix\n",
    "from sklearn.metrics import ConfusionMatrixDisplay\n",
    "from sklearn.model_selection import StratifiedKFold, KFold\n",
    "import os\n",
    "import sys\n",
    "import math\n",
    "import scipy\n",
    "\n",
    "module_path = os.path.abspath(os.path.join('..'))\n",
    "if module_path not in sys.path:\n",
    "    sys.path.append(module_path)\n",
    "\n",
    "from hdc import hdc\n",
    "\n",
    "from sklearn.model_selection import KFold\n",
    "from sklearn.model_selection import train_test_split\n",
    "from sklearn.model_selection import LeaveOneOut\n",
    "\n",
    "from data_preprocessing import experiments, process_daily_activities, foldLaundry, writeHello, openJar, screwLightbulb, combHair, tieShoes\n",
    "import full_subgesture_classification as HDC_sb_flow\n",
    "%matplotlib inline\n",
    "%load_ext autoreload\n",
    "%autoreload 2"
   ]
  },
  {
   "cell_type": "code",
   "execution_count": null,
   "id": "d309c84f",
   "metadata": {},
   "outputs": [],
   "source": [
    "%%time\n",
    "# loading data\n",
    "\n",
    "feat_dir = os.getcwd() + '/../S1/features/'\n",
    "sub = 1\n",
    "temporal_ngram = 2\n",
    "downsample_factor = 1\n",
    "feature_window = 50\n",
    "seed = 12345\n",
    "split_seed = 1\n",
    "D = 10000\n",
    "\n",
    "accSpan = [-1,1]\n",
    "accCIMLevels = [59, 55, 14]\n",
    "accCIMSpan = [10000, 5000, 6000]\n",
    "accIMLevels = [1, 4, 5]\n",
    "\n",
    "temporal_ngrams = [1]\n",
    "downsample_factors = [1]\n",
    "#feature_windows = [50,100,200,500,1000]\n",
    "feature_windows = [50]\n",
    "activity_accuracies = np.zeros([len(temporal_ngrams),len(downsample_factors)])\n",
    "average_accuracies = np.zeros([len(temporal_ngrams),len(downsample_factors)])\n",
    "\n",
    "for i in range(len(temporal_ngrams)):\n",
    "    for y in range(len(feature_windows)):\n",
    "        temporal_ngram = temporal_ngrams[i]\n",
    "        #downsample_factor = downsample_factors[y]\n",
    "        feature_window = feature_windows[y]\n",
    "        average_accuracies[i,y] = HDC_sb_flow.HDC_flow(feat_dir, sub, temporal_ngram, downsample_factor, feature_window, seed, split_seed, D,accSpan,accCIMLevels,accCIMSpan,accIMLevels)"
   ]
  },
  {
   "cell_type": "markdown",
   "id": "6e35d252",
   "metadata": {},
   "source": []
  }
 ],
 "metadata": {
  "interpreter": {
   "hash": "bde147c7d190b2743e7fe1db5618ae0aaf20dd9d16d882eb92784af31f135984"
  },
  "kernelspec": {
   "display_name": "Python 3 (ipykernel)",
   "language": "python",
   "name": "python3"
  },
  "language_info": {
   "codemirror_mode": {
    "name": "ipython",
    "version": 3
   },
   "file_extension": ".py",
   "mimetype": "text/x-python",
   "name": "python",
   "nbconvert_exporter": "python",
   "pygments_lexer": "ipython3",
   "version": "3.8.13"
  }
 },
 "nbformat": 4,
 "nbformat_minor": 5
}
